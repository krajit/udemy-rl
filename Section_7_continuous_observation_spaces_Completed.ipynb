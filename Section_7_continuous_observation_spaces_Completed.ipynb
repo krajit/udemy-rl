{
 "cells": [
  {
   "cell_type": "markdown",
   "metadata": {},
   "source": [
    "## Import the necessary software libraries:"
   ]
  },
  {
   "cell_type": "code",
   "execution_count": 4,
   "metadata": {},
   "outputs": [],
   "source": [
    "import random\n",
    "import gym\n",
    "import numpy as np\n",
    "from tqdm import tqdm\n",
    "\n",
    "from envs import Maze\n",
    "from utils import plot_policy, plot_tabular_cost_to_go, test_agent, plot_stats, seed_everything"
   ]
  },
  {
   "cell_type": "markdown",
   "metadata": {},
   "source": [
    "### Create the environment"
   ]
  },
  {
   "cell_type": "code",
   "execution_count": 5,
   "metadata": {},
   "outputs": [
    {
     "name": "stderr",
     "output_type": "stream",
     "text": [
      "/home/ajit.kumar@SNU.IN/anaconda3/envs/udemy-rl/lib/python3.10/site-packages/gym/utils/passive_env_checker.py:97: UserWarning: \u001b[33mWARN: We recommend you to use a symmetric and normalized Box action space (range=[-1, 1]) https://stable-baselines3.readthedocs.io/en/master/guide/rl_tips.html\u001b[0m\n",
      "  logger.warn(\n",
      "/home/ajit.kumar@SNU.IN/anaconda3/envs/udemy-rl/lib/python3.10/site-packages/gym/core.py:200: DeprecationWarning: \u001b[33mWARN: Function `env.seed(seed)` is marked as deprecated and will be removed in the future. Please use `env.reset(seed=seed)` instead.\u001b[0m\n",
      "  deprecation(\n",
      "/home/ajit.kumar@SNU.IN/Desktop/udemy-rl/utils.py:247: DeprecationWarning: invalid escape sequence '\\p'\n",
      "  plt.title(\"$\\pi(s)$\", size=16)\n"
     ]
    },
    {
     "ename": "AttributeError",
     "evalue": "module 'torch' has no attribute 'set_deterministic'",
     "output_type": "error",
     "traceback": [
      "\u001b[0;31m---------------------------------------------------------------------------\u001b[0m",
      "\u001b[0;31mAttributeError\u001b[0m                            Traceback (most recent call last)",
      "Input \u001b[0;32mIn [5]\u001b[0m, in \u001b[0;36m<cell line: 2>\u001b[0;34m()\u001b[0m\n\u001b[1;32m      1\u001b[0m env \u001b[38;5;241m=\u001b[39m gym\u001b[38;5;241m.\u001b[39mmake(\u001b[38;5;124m'\u001b[39m\u001b[38;5;124mMountainCar-v0\u001b[39m\u001b[38;5;124m'\u001b[39m)\n\u001b[0;32m----> 2\u001b[0m \u001b[43mseed_everything\u001b[49m\u001b[43m(\u001b[49m\u001b[43menv\u001b[49m\u001b[43m)\u001b[49m\n",
      "File \u001b[0;32m~/Desktop/udemy-rl/utils.py:223\u001b[0m, in \u001b[0;36mseed_everything\u001b[0;34m(env, seed)\u001b[0m\n\u001b[1;32m    221\u001b[0m np\u001b[38;5;241m.\u001b[39mrandom\u001b[38;5;241m.\u001b[39mseed(seed)\n\u001b[1;32m    222\u001b[0m torch\u001b[38;5;241m.\u001b[39mmanual_seed(seed)\n\u001b[0;32m--> 223\u001b[0m \u001b[43mtorch\u001b[49m\u001b[38;5;241;43m.\u001b[39;49m\u001b[43mset_deterministic\u001b[49m(\u001b[38;5;28;01mTrue\u001b[39;00m)\n",
      "\u001b[0;31mAttributeError\u001b[0m: module 'torch' has no attribute 'set_deterministic'"
     ]
    }
   ],
   "source": [
    "env = gym.make('MountainCar-v0')\n",
    "seed_everything(env)"
   ]
  },
  {
   "cell_type": "markdown",
   "metadata": {},
   "source": [
    "### Create the state aggregation wrapper"
   ]
  },
  {
   "cell_type": "code",
   "execution_count": null,
   "metadata": {},
   "outputs": [],
   "source": [
    "class StateAggregationEnv(gym.ObservationWrapper):\n",
    "    \n",
    "    def __init__(self, env, bins, low, high):\n",
    "        super().__init__(env)\n",
    "        self.buckets = [np.linspace(j,k, l-1) for j,k,l in zip(low, high, bins)]\n",
    "        self.observation_space = gym.spaces.MultiDiscrete(nvec=bins.tolist())\n",
    "        \n",
    "    def observation(self, obs):\n",
    "        indices = tuple(np.digitize(i, b) for i,b in zip(obs, self.buckets))\n",
    "        return indices"
   ]
  },
  {
   "cell_type": "code",
   "execution_count": null,
   "metadata": {},
   "outputs": [],
   "source": [
    "bins = np.array([20, 20])\n",
    "low = env.observation_space.low\n",
    "high = env.observation_space.high\n",
    "saenv = StateAggregationEnv(env, bins=bins, low=low, high=high)"
   ]
  },
  {
   "cell_type": "code",
   "execution_count": null,
   "metadata": {},
   "outputs": [],
   "source": [
    "saenv.buckets"
   ]
  },
  {
   "cell_type": "markdown",
   "metadata": {},
   "source": [
    "### Compare the original environment to the one with aggregated states"
   ]
  },
  {
   "cell_type": "code",
   "execution_count": null,
   "metadata": {},
   "outputs": [],
   "source": [
    "print(f\"Modified observation space: {saenv.observation_space}, \\n\\\n",
    "Sample state: {saenv.observation_space.sample()}\")"
   ]
  },
  {
   "cell_type": "code",
   "execution_count": null,
   "metadata": {},
   "outputs": [],
   "source": [
    "print(f\"Original observation space: {env.observation_space}, \\n\\\n",
    "Sample state: {env.observation_space.sample()}\")"
   ]
  },
  {
   "cell_type": "markdown",
   "metadata": {},
   "source": [
    "### Create the $Q(s,a)$ value table"
   ]
  },
  {
   "cell_type": "code",
   "execution_count": null,
   "metadata": {},
   "outputs": [],
   "source": [
    "action_values = np.zeros((20,20, 3))"
   ]
  },
  {
   "cell_type": "markdown",
   "metadata": {},
   "source": [
    "### Create the $\\epsilon$-greedy policy: $\\pi(s)$"
   ]
  },
  {
   "cell_type": "code",
   "execution_count": null,
   "metadata": {},
   "outputs": [],
   "source": [
    "def policy(state, epsilon=0.):\n",
    "    if np.random.random() < epsilon:\n",
    "        return np.random.randint(3)\n",
    "    else:\n",
    "        av = action_values[state]\n",
    "        return np.random.choice(np.flatnonzero(av == av.max()))"
   ]
  },
  {
   "cell_type": "markdown",
   "metadata": {},
   "source": [
    "### Test the SARSA algorithm on the modified environment"
   ]
  },
  {
   "cell_type": "code",
   "execution_count": null,
   "metadata": {},
   "outputs": [],
   "source": [
    "def sarsa(action_values, policy, episodes, alpha=0.1, gamma=0.99, epsilon=0.2):\n",
    "    stats = {'Returns': []}\n",
    "    for episode in tqdm(range(1, episodes + 1)):\n",
    "        state = saenv.reset()\n",
    "        action = policy(state, epsilon)\n",
    "        done = False\n",
    "        ep_return = 0\n",
    "        while not done:\n",
    "            next_state, reward, done, _ = saenv.step(action)\n",
    "            next_action = policy(next_state, epsilon)\n",
    "            \n",
    "            qsa = action_values[state][action]\n",
    "            next_qsa = action_values[next_state][next_action]\n",
    "            action_values[state][action] = qsa + alpha * (reward + gamma * next_qsa - qsa)\n",
    "            state = next_state\n",
    "            action = next_action\n",
    "            ep_return += reward\n",
    "        stats['Returns'].append(ep_return)\n",
    "    return stats"
   ]
  },
  {
   "cell_type": "code",
   "execution_count": null,
   "metadata": {},
   "outputs": [],
   "source": [
    "stats = sarsa(action_values, policy, 20000, alpha=0.1, epsilon=0.)"
   ]
  },
  {
   "cell_type": "code",
   "execution_count": null,
   "metadata": {},
   "outputs": [],
   "source": [
    "plot_stats(stats)"
   ]
  },
  {
   "cell_type": "markdown",
   "metadata": {},
   "source": [
    "### Plot the learned policy: $\\pi(s)$"
   ]
  },
  {
   "cell_type": "code",
   "execution_count": null,
   "metadata": {},
   "outputs": [],
   "source": [
    "plot_policy(action_values, env.render(mode='rgb_array'), \\\n",
    "            action_meanings={0: 'B', 1: 'N', 2: 'F'})"
   ]
  },
  {
   "cell_type": "markdown",
   "metadata": {},
   "source": [
    "### Plot the cost to go: $ - \\max_a \\hat q(s,a|\\theta)$"
   ]
  },
  {
   "cell_type": "code",
   "execution_count": null,
   "metadata": {},
   "outputs": [],
   "source": [
    "plot_tabular_cost_to_go(action_values, xlabel=\"Car Position\", ylabel=\"Velocity\")"
   ]
  },
  {
   "cell_type": "markdown",
   "metadata": {},
   "source": [
    "### Test the resulting policy"
   ]
  },
  {
   "cell_type": "code",
   "execution_count": null,
   "metadata": {},
   "outputs": [],
   "source": [
    "test_agent(saenv, policy, 10)"
   ]
  },
  {
   "cell_type": "markdown",
   "metadata": {},
   "source": [
    "<br><br><br><br>"
   ]
  },
  {
   "attachments": {
    "Screenshot%202021-03-15%20at%2018.39.43.png": {
     "image/png": "[encoded data removed]"
    }
   },
   "cell_type": "markdown",
   "metadata": {},
   "source": [
    "## Implement Tile Coding\n",
    "\n",
    "<br><br>\n",
    "\n",
    "![Screenshot%202021-03-15%20at%2018.39.43.png](attachment:Screenshot%202021-03-15%20at%2018.39.43.png)"
   ]
  },
  {
   "cell_type": "markdown",
   "metadata": {},
   "source": [
    "### Create the environment"
   ]
  },
  {
   "cell_type": "code",
   "execution_count": null,
   "metadata": {},
   "outputs": [],
   "source": [
    "env = gym.make('MountainCar-v0')\n",
    "seed_everything(env)"
   ]
  },
  {
   "cell_type": "markdown",
   "metadata": {},
   "source": [
    "### Create the Tile Coding wrapper"
   ]
  },
  {
   "cell_type": "code",
   "execution_count": null,
   "metadata": {},
   "outputs": [],
   "source": [
    "class TileCodingEnv(gym.ObservationWrapper):\n",
    "    \n",
    "    def __init__(self, env, bins, low, high, n=4):\n",
    "        super().__init__(env)\n",
    "        self.tilings = self._create_tilings(bins, high, low, n)\n",
    "#         self.observation_space = gym.spaces.MultiDiscrete(nvec=bins.tolist())\n",
    "        \n",
    "    def observation(self, obs):\n",
    "        indices = []\n",
    "        for t in self.tilings:\n",
    "            tiling_indices = tuple(np.digitize(i, b) for i,b in zip(obs, t))\n",
    "            indices.append(tiling_indices)\n",
    "        return indices\n",
    "    \n",
    "    def _create_tilings(self, bins, high, low, n):\n",
    "        displacement_vector = np.arange(1,2*len(bins),2)\n",
    "        tilings = []\n",
    "        for i in range(1, n + 1):\n",
    "            low_i = low - random.random() * .2 * low\n",
    "            high_i = high + random.random() * .2 * high\n",
    "            segment_sizes = (high_i - low_i) / bins\n",
    "            displacements = displacement_vector * i % n\n",
    "            displacements = displacements * (segment_sizes / n)\n",
    "            low_i += displacements\n",
    "            high_i += displacements\n",
    "            buckets_i = [np.linspace(j,k, l-1) for j,k,l in zip(low_i, high_i, bins)]\n",
    "            tilings.append(buckets_i)\n",
    "        return tilings\n"
   ]
  },
  {
   "cell_type": "code",
   "execution_count": null,
   "metadata": {},
   "outputs": [],
   "source": [
    "tilings = 4\n",
    "bins = np.array([20, 20])\n",
    "low = env.observation_space.low\n",
    "high = env.observation_space.high\n",
    "tcenv = TileCodingEnv(env, bins=bins, low=low, high=high, n=tilings)"
   ]
  },
  {
   "cell_type": "markdown",
   "metadata": {},
   "source": [
    "### Compare the original environment to the one with aggregated states"
   ]
  },
  {
   "cell_type": "code",
   "execution_count": null,
   "metadata": {},
   "outputs": [],
   "source": [
    "print(f\"Modified observation space: {saenv.observation_space}, \\n\\\n",
    "Sample state: {saenv.observation_space.sample()}\")"
   ]
  },
  {
   "cell_type": "code",
   "execution_count": null,
   "metadata": {},
   "outputs": [],
   "source": [
    "print(f\"Original observation space: {env.observation_space}, \\n\\\n",
    "Sample state: {env.observation_space.sample()}\")"
   ]
  },
  {
   "cell_type": "markdown",
   "metadata": {},
   "source": [
    "### Create the $Q(s,a)$ value table"
   ]
  },
  {
   "cell_type": "code",
   "execution_count": null,
   "metadata": {},
   "outputs": [],
   "source": [
    "action_values = np.zeros((4, 20, 20, 3))"
   ]
  },
  {
   "cell_type": "markdown",
   "metadata": {},
   "source": [
    "### Create the $\\epsilon$-greedy policy: $\\pi(s)$"
   ]
  },
  {
   "cell_type": "code",
   "execution_count": null,
   "metadata": {},
   "outputs": [],
   "source": [
    "def policy(state, epsilon=0.):\n",
    "    if np.random.random() < epsilon:\n",
    "        return np.random.randint(3)\n",
    "    else:\n",
    "        av_list = []\n",
    "        for i, idx in enumerate(state):\n",
    "            av = action_values[i][idx]\n",
    "            av_list.append(av)\n",
    "        \n",
    "        av = np.mean(av_list, axis=0)\n",
    "        return np.random.choice(np.flatnonzero(av == av.max()))"
   ]
  },
  {
   "cell_type": "markdown",
   "metadata": {},
   "source": [
    "### Test the SARSA algorithm on the modified environment"
   ]
  },
  {
   "cell_type": "code",
   "execution_count": null,
   "metadata": {},
   "outputs": [],
   "source": [
    "def sarsa(action_values, policy, episodes, alpha=0.1, gamma=0.99, epsilon=0.2):\n",
    "    stats = {'Returns': []}\n",
    "    for episode in tqdm(range(1, episodes + 1)):\n",
    "        state = tcenv.reset()\n",
    "        action = policy(state, epsilon)\n",
    "        done = False\n",
    "        ep_return = 0\n",
    "        while not done:\n",
    "            next_state, reward, done, _ = tcenv.step(action)\n",
    "            next_action = policy(next_state, epsilon)\n",
    "            \n",
    "            for i, (idx, next_idx) in enumerate(zip(state, next_state)):\n",
    "                qsa = action_values[i][idx][action]\n",
    "                next_qsa = action_values[i][next_idx][next_action]\n",
    "                action_values[i][idx][action] = qsa + alpha * (reward + gamma * next_qsa - qsa)\n",
    "            \n",
    "            state = next_state\n",
    "            action = next_action\n",
    "            ep_return += reward\n",
    "        stats['Returns'].append(ep_return)\n",
    "    return stats"
   ]
  },
  {
   "cell_type": "code",
   "execution_count": null,
   "metadata": {},
   "outputs": [],
   "source": [
    "stats = sarsa(action_values, policy, 20000, alpha=0.1, epsilon=0.)"
   ]
  },
  {
   "cell_type": "code",
   "execution_count": null,
   "metadata": {},
   "outputs": [],
   "source": [
    "plot_stats(stats)"
   ]
  },
  {
   "cell_type": "markdown",
   "metadata": {},
   "source": [
    "### Plot the learned policy: $\\pi(s)$"
   ]
  },
  {
   "cell_type": "code",
   "execution_count": null,
   "metadata": {},
   "outputs": [],
   "source": [
    "plot_policy(action_values.mean(axis=0), env.render(mode='rgb_array'), \\\n",
    "            action_meanings={0: 'B', 1: 'N', 2: 'F'})"
   ]
  },
  {
   "cell_type": "markdown",
   "metadata": {},
   "source": [
    "### Plot the cost to go: $ - \\max_a \\hat q(s,a|\\theta)$"
   ]
  },
  {
   "cell_type": "code",
   "execution_count": null,
   "metadata": {},
   "outputs": [],
   "source": [
    "plot_tabular_cost_to_go(action_values.mean(axis=0), \\\n",
    "                        xlabel=\"Car Position\", ylabel=\"Velocity\")"
   ]
  },
  {
   "cell_type": "markdown",
   "metadata": {},
   "source": [
    "### Test the resulting policy"
   ]
  },
  {
   "cell_type": "code",
   "execution_count": null,
   "metadata": {},
   "outputs": [],
   "source": [
    "test_agent(tcenv, policy, 2)"
   ]
  },
  {
   "cell_type": "markdown",
   "metadata": {},
   "source": [
    "## Resources"
   ]
  },
  {
   "cell_type": "markdown",
   "metadata": {},
   "source": [
    "[[1] Reinforcement Learning: An Introduction. Section 9.5.4: Tile Coding](https://web.stanford.edu/class/psych209/Readings/SuttonBartoIPRLBook2ndEd.pdf)"
   ]
  }
 ],
 "metadata": {
  "kernelspec": {
   "display_name": "Python 3 (ipykernel)",
   "language": "python",
   "name": "python3"
  },
  "language_info": {
   "codemirror_mode": {
    "name": "ipython",
    "version": 3
   },
   "file_extension": ".py",
   "mimetype": "text/x-python",
   "name": "python",
   "nbconvert_exporter": "python",
   "pygments_lexer": "ipython3",
   "version": "3.10.4"
  }
 },
 "nbformat": 4,
 "nbformat_minor": 4
}
