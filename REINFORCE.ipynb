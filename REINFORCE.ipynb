{
 "cells": [
  {
   "cell_type": "code",
   "execution_count": 1,
   "id": "399e21bf-32c2-47ab-9975-1a2d38376366",
   "metadata": {},
   "outputs": [],
   "source": [
    "import os\n",
    "import torch\n",
    "import gym, matplotlib.pyplot as plt\n",
    "from tqdm import tqdm\n",
    "from torch import nn as nn\n",
    "from torch.optim import AdamW\n",
    "\n",
    "from parallel_env import ParallelEnv, ParallelWrapper \n"
   ]
  },
  {
   "cell_type": "markdown",
   "id": "c5b9dc58-aa52-4e68-9816-f4b9ffa12e58",
   "metadata": {},
   "source": [
    "# Create and processs the environment"
   ]
  },
  {
   "cell_type": "code",
   "execution_count": 2,
   "id": "ef3bfa29-bd55-4630-a187-c188e3275f6e",
   "metadata": {},
   "outputs": [
    {
     "name": "stderr",
     "output_type": "stream",
     "text": [
      "/home/ajit.kumar@SNU.IN/anaconda3/envs/udemy-rl/lib/python3.10/site-packages/gym/utils/passive_env_checker.py:97: UserWarning: \u001b[33mWARN: We recommend you to use a symmetric and normalized Box action space (range=[-1, 1]) https://stable-baselines3.readthedocs.io/en/master/guide/rl_tips.html\u001b[0m\n",
      "  logger.warn(\n"
     ]
    }
   ],
   "source": [
    "env = gym.make('CartPole-v1')\n",
    "dims = env.observation_space.shape[0]\n",
    "actions = env.action_space.n"
   ]
  },
  {
   "cell_type": "code",
   "execution_count": 3,
   "id": "987daa99-86c7-4738-bacb-0980e2fc198a",
   "metadata": {},
   "outputs": [
    {
     "data": {
      "image/png": "[encoded data removed]",
      "text/plain": [
       "<Figure size 432x288 with 1 Axes>"
      ]
     },
     "metadata": {
      "needs_background": "light"
     },
     "output_type": "display_data"
    }
   ],
   "source": [
    "env.reset()\n",
    "plt.imshow(env.render(mode='rgb_array'))\n",
    "env.close()"
   ]
  },
  {
   "cell_type": "code",
   "execution_count": 4,
   "id": "7efc2072-03df-4ff9-8ce6-fbfe74b23e9d",
   "metadata": {},
   "outputs": [],
   "source": [
    "num_envs = 8 #os.cpu_count() max is 16 on these workstations"
   ]
  },
  {
   "cell_type": "code",
   "execution_count": 5,
   "id": "e38793f5-1d94-41c5-b3ed-9db45bf84a88",
   "metadata": {},
   "outputs": [],
   "source": [
    "def create_env(env_name, seed):\n",
    "    env = gym.make(env_name)\n",
    "    return env"
   ]
  },
  {
   "cell_type": "code",
   "execution_count": 6,
   "id": "e325a755-91d6-4954-9d85-3ff14f056948",
   "metadata": {},
   "outputs": [
    {
     "name": "stderr",
     "output_type": "stream",
     "text": [
      "/home/ajit.kumar@SNU.IN/anaconda3/envs/udemy-rl/lib/python3.10/site-packages/gym/utils/passive_env_checker.py:97: UserWarning: \u001b[33mWARN: We recommend you to use a symmetric and normalized Box action space (range=[-1, 1]) https://stable-baselines3.readthedocs.io/en/master/guide/rl_tips.html\u001b[0m\n",
      "  logger.warn(\n",
      "/home/ajit.kumar@SNU.IN/anaconda3/envs/udemy-rl/lib/python3.10/site-packages/gym/utils/passive_env_checker.py:97: UserWarning: \u001b[33mWARN: We recommend you to use a symmetric and normalized Box action space (range=[-1, 1]) https://stable-baselines3.readthedocs.io/en/master/guide/rl_tips.html\u001b[0m\n",
      "  logger.warn(\n",
      "/home/ajit.kumar@SNU.IN/anaconda3/envs/udemy-rl/lib/python3.10/site-packages/gym/utils/passive_env_checker.py:97: UserWarning: \u001b[33mWARN: We recommend you to use a symmetric and normalized Box action space (range=[-1, 1]) https://stable-baselines3.readthedocs.io/en/master/guide/rl_tips.html\u001b[0m\n",
      "  logger.warn(\n",
      "/home/ajit.kumar@SNU.IN/anaconda3/envs/udemy-rl/lib/python3.10/site-packages/gym/utils/passive_env_checker.py:97: UserWarning: \u001b[33mWARN: We recommend you to use a symmetric and normalized Box action space (range=[-1, 1]) https://stable-baselines3.readthedocs.io/en/master/guide/rl_tips.html\u001b[0m\n",
      "  logger.warn(\n",
      "/home/ajit.kumar@SNU.IN/anaconda3/envs/udemy-rl/lib/python3.10/site-packages/gym/utils/passive_env_checker.py:97: UserWarning: \u001b[33mWARN: We recommend you to use a symmetric and normalized Box action space (range=[-1, 1]) https://stable-baselines3.readthedocs.io/en/master/guide/rl_tips.html\u001b[0m\n",
      "  logger.warn(\n",
      "/home/ajit.kumar@SNU.IN/anaconda3/envs/udemy-rl/lib/python3.10/site-packages/gym/utils/passive_env_checker.py:97: UserWarning: \u001b[33mWARN: We recommend you to use a symmetric and normalized Box action space (range=[-1, 1]) https://stable-baselines3.readthedocs.io/en/master/guide/rl_tips.html\u001b[0m\n",
      "  logger.warn(\n",
      "/home/ajit.kumar@SNU.IN/anaconda3/envs/udemy-rl/lib/python3.10/site-packages/gym/utils/passive_env_checker.py:97: UserWarning: \u001b[33mWARN: We recommend you to use a symmetric and normalized Box action space (range=[-1, 1]) https://stable-baselines3.readthedocs.io/en/master/guide/rl_tips.html\u001b[0m\n",
      "  logger.warn(\n",
      "/home/ajit.kumar@SNU.IN/anaconda3/envs/udemy-rl/lib/python3.10/site-packages/gym/utils/passive_env_checker.py:97: UserWarning: \u001b[33mWARN: We recommend you to use a symmetric and normalized Box action space (range=[-1, 1]) https://stable-baselines3.readthedocs.io/en/master/guide/rl_tips.html\u001b[0m\n",
      "  logger.warn(\n"
     ]
    }
   ],
   "source": [
    "env_fns = [lambda: create_env('CartPole-v1',rank) for rank in range(num_envs)]\n",
    "\n",
    "\n",
    "parallel_env = ParallelEnv(env_fns)"
   ]
  },
  {
   "cell_type": "code",
   "execution_count": 7,
   "id": "d340a191-3ad2-4f81-887d-813eb1ae3dbe",
   "metadata": {},
   "outputs": [
    {
     "data": {
      "text/plain": [
       "array([[ 0.04030359,  0.04341412, -0.01913494,  0.02273265],\n",
       "       [ 0.04454089, -0.04502525, -0.04110698,  0.01759117],\n",
       "       [ 0.03328272,  0.04610067, -0.04085183,  0.00924329],\n",
       "       [-0.04661807,  0.00796873,  0.02546181, -0.04535644],\n",
       "       [-0.00054227,  0.03666577, -0.02581694, -0.0026585 ],\n",
       "       [-0.00477613, -0.03968655,  0.00917695, -0.03081775],\n",
       "       [ 0.04794167,  0.0345131 , -0.03162109, -0.03956192],\n",
       "       [-0.02910187,  0.04129063,  0.01899459, -0.00854895]],\n",
       "      dtype=float32)"
      ]
     },
     "execution_count": 7,
     "metadata": {},
     "output_type": "execute_result"
    }
   ],
   "source": [
    "parallel_env.reset()"
   ]
  },
  {
   "cell_type": "code",
   "execution_count": 8,
   "id": "7cea2886-5d08-4556-a222-8287025de025",
   "metadata": {},
   "outputs": [],
   "source": [
    "class PreprocessEnv(ParallelWrapper):\n",
    "    def __init__(self, parallel_env):\n",
    "        ParallelWrapper.__init__(self, parallel_env)\n",
    "    \n",
    "    # reset \n",
    "    def reset(self):\n",
    "        state = self.venv.reset()\n",
    "        return torch.from_numpy(state).float()\n",
    "        \n",
    "    # step_async\n",
    "    def step_async(self, actions):\n",
    "        actions = actions.squeeze().numpy()\n",
    "        self.venv.step_async(actions)\n",
    "        \n",
    "    # step_wait\n",
    "    def step_wait(self):\n",
    "        next_state, reward, done, info = self.venv.step_wait()\n",
    "        next_state = torch.from_numpy(next_state).float()\n",
    "        reward = torch.tensor(reward).unsqueeze(1).float()\n",
    "        done = torch.tensor(done).unsqueeze(1)\n",
    "        return next_state, reward, done, info"
   ]
  },
  {
   "cell_type": "code",
   "execution_count": 9,
   "id": "a49d9eda-a52c-4028-983f-7af7250c4b7f",
   "metadata": {},
   "outputs": [],
   "source": [
    "parallel_env = PreprocessEnv(parallel_env)"
   ]
  },
  {
   "cell_type": "code",
   "execution_count": 10,
   "id": "1e1f109f-bbcf-4ac8-9c74-0f7536418c3c",
   "metadata": {},
   "outputs": [],
   "source": [
    "state = parallel_env.reset()\n",
    "\n",
    "_, reward, done, _ = parallel_env.step(torch.zeros(num_envs,1,dtype=torch.int32))"
   ]
  },
  {
   "cell_type": "code",
   "execution_count": 12,
   "id": "cca048c4-ec67-4b10-9de6-301cfd3b7764",
   "metadata": {},
   "outputs": [
    {
     "data": {
      "text/plain": [
       "tensor([[False],\n",
       "        [False],\n",
       "        [False],\n",
       "        [False],\n",
       "        [False],\n",
       "        [False],\n",
       "        [False],\n",
       "        [False]])"
      ]
     },
     "execution_count": 12,
     "metadata": {},
     "output_type": "execute_result"
    }
   ],
   "source": [
    "done"
   ]
  },
  {
   "cell_type": "code",
   "execution_count": 53,
   "id": "3feb550c-7014-42b6-b2b0-40111c7034d5",
   "metadata": {},
   "outputs": [],
   "source": [
    "policy = nn.Sequential(\n",
    "    nn.Linear(dims, 128),\n",
    "    nn.ReLU(),\n",
    "    nn.Linear(128,64),\n",
    "    nn.ReLU(),\n",
    "    nn.Linear(64,actions),\n",
    "    nn.Softmax(dim=-1)\n",
    ")"
   ]
  },
  {
   "cell_type": "code",
   "execution_count": 54,
   "id": "9d88686c-f076-48c9-ba46-9cfc6c04e49d",
   "metadata": {},
   "outputs": [],
   "source": [
    "neutral_state = torch.zeros(4)\n",
    "left_danger = torch.tensor([ -2.3, 0., 0., 0.])\n",
    "right_danger = torch.tensor([ 2.3, 0., 0., 0.])"
   ]
  },
  {
   "cell_type": "code",
   "execution_count": 55,
   "id": "a11f7b57-4758-45ef-9ffd-e075d2245403",
   "metadata": {},
   "outputs": [],
   "source": [
    "probs = policy(neutral_state).detach().numpy()"
   ]
  },
  {
   "cell_type": "code",
   "execution_count": 56,
   "id": "1939a195-1463-46e3-80a0-267e43535078",
   "metadata": {},
   "outputs": [
    {
     "data": {
      "text/plain": [
       "array([0.4465813 , 0.55341864], dtype=float32)"
      ]
     },
     "execution_count": 56,
     "metadata": {},
     "output_type": "execute_result"
    }
   ],
   "source": [
    "probs"
   ]
  },
  {
   "cell_type": "code",
   "execution_count": 64,
   "id": "d30dc22c-2157-461a-acce-06ebdd182ca9",
   "metadata": {},
   "outputs": [
    {
     "data": {
      "text/plain": [
       "<BarContainer object of 2 artists>"
      ]
     },
     "execution_count": 64,
     "metadata": {},
     "output_type": "execute_result"
    },
    {
     "data": {
      "image/png": "[encoded data removed]",
      "text/plain": [
       "<Figure size 432x288 with 1 Axes>"
      ]
     },
     "metadata": {
      "needs_background": "light"
     },
     "output_type": "display_data"
    }
   ],
   "source": [
    "plt.bar([1,2],probs,label= ['left','right'])\n",
    "\n"
   ]
  },
  {
   "cell_type": "code",
   "execution_count": 75,
   "id": "7129405c-bb2b-42fd-adbb-6e4dff248965",
   "metadata": {},
   "outputs": [],
   "source": [
    "def reinforce(policy, episodes, alpha = 1e-4, gamma = 0.99):\n",
    "    \n",
    "    optim = AdamW(policy.parameters(), lr = alpha)\n",
    "    stats = { 'Loss': [], 'Returns':[] }\n",
    "\n",
    "    for episode in tqdm(range(1,episodes+1)):\n",
    "        state = parallel_env.reset()\n",
    "        done_b = torch.zeros((num_envs,1), dtype=torch.bool)\n",
    "        transitions = []\n",
    "        ep_return = torch.zeros((num_envs,1))\n",
    "        \n",
    "        while not done_b.all():\n",
    "            action = policy(state).multinomial(1).detach()\n",
    "            next_state, reward, done, _ = parallel_env.step(action)\n",
    "            transitions.append([state, action, ~done_b*reward])\n",
    "            ep_return += reward\n",
    "            done_b |= done\n",
    "            state = next_state\n",
    "        G = torch.zeros((num_envs,1))\n",
    "        for t, (state_t, action_t, reward_t) in reversed(list(enumerate(transitions))):\n",
    "            G = reward_t * gamma*G\n",
    "            probs_t = policy(state_t)\n",
    "            log_probs_t = torch.log(probs_t + 1e-6)\n",
    "            action_log_prob_t = log_probs_t.gather(1, action_t)\n",
    "            entropy_t = -torch.sum(probs_t * log_probs_t, dim = -1, keepdim = True)\n",
    "            gamma_t = gamma**t\n",
    "            pg_loss_t = -gamma_t*action_log_prob_t*G\n",
    "            total_loss_t = (pg_loss_t - 0.01*entropy_t).mean()\n",
    "            \n",
    "            policy.zero_grad()\n",
    "            total_loss_t.backward()\n",
    "            optim.step()\n",
    "        stats['Loss'].append(total_loss_t.item())\n",
    "        stats['Returns'].append(ep_return.mean().item())\n",
    "    return stats"
   ]
  },
  {
   "cell_type": "code",
   "execution_count": 76,
   "id": "face8897-a6ba-45e1-8b34-ff5ba2b51678",
   "metadata": {},
   "outputs": [
    {
     "name": "stderr",
     "output_type": "stream",
     "text": [
      "100%|█████████████████████████████████████████| 200/200 [00:13<00:00, 14.87it/s]\n"
     ]
    }
   ],
   "source": [
    "parallel_env.reset()\n",
    "\n",
    "stats = reinforce(policy, 200, alpha = 1e-4, gamma = 0.99)"
   ]
  },
  {
   "cell_type": "code",
   "execution_count": 80,
   "id": "59a87ad4-30de-4c58-a3d0-d55f12453dae",
   "metadata": {},
   "outputs": [
    {
     "data": {
      "text/plain": [
       "[<matplotlib.lines.Line2D at 0x7f74b003ce20>]"
      ]
     },
     "execution_count": 80,
     "metadata": {},
     "output_type": "execute_result"
    },
    {
     "data": {
      "image/png": "[encoded data removed]",
      "text/plain": [
       "<Figure size 432x288 with 1 Axes>"
      ]
     },
     "metadata": {
      "needs_background": "light"
     },
     "output_type": "display_data"
    }
   ],
   "source": [
    "plt.plot(stats['Returns'])"
   ]
  },
  {
   "cell_type": "code",
   "execution_count": 84,
   "id": "2e306a50-ff8e-432b-8e3d-6eb8e919e5ac",
   "metadata": {},
   "outputs": [
    {
     "data": {
      "text/plain": [
       "<BarContainer object of 2 artists>"
      ]
     },
     "execution_count": 84,
     "metadata": {},
     "output_type": "execute_result"
    },
    {
     "data": {
      "image/png": "[encoded data removed]",
      "text/plain": [
       "<Figure size 432x288 with 1 Axes>"
      ]
     },
     "metadata": {
      "needs_background": "light"
     },
     "output_type": "display_data"
    }
   ],
   "source": [
    "neutral_state = torch.zeros(4)\n",
    "left_danger = torch.tensor([ -2.31, 0., 0., 0.])\n",
    "right_danger = torch.tensor([ 2.3, 0., 0., 0.])\n",
    "probs = policy(right_danger).detach().numpy()\n",
    "plt.bar([1,2],probs)"
   ]
  },
  {
   "cell_type": "code",
   "execution_count": null,
   "id": "0d2da9e4-e087-42d6-a559-abc76da98b14",
   "metadata": {},
   "outputs": [],
   "source": []
  },
  {
   "cell_type": "code",
   "execution_count": null,
   "id": "a89d41ae-7067-4642-a656-2b9687a8464d",
   "metadata": {},
   "outputs": [],
   "source": []
  }
 ],
 "metadata": {
  "kernelspec": {
   "display_name": "Python 3 (ipykernel)",
   "language": "python",
   "name": "python3"
  },
  "language_info": {
   "codemirror_mode": {
    "name": "ipython",
    "version": 3
   },
   "file_extension": ".py",
   "mimetype": "text/x-python",
   "name": "python",
   "nbconvert_exporter": "python",
   "pygments_lexer": "ipython3",
   "version": "3.10.4"
  }
 },
 "nbformat": 4,
 "nbformat_minor": 5
}
