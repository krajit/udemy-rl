{
 "cells": [
  {
   "cell_type": "markdown",
   "id": "29f78c86-622e-4599-b62f-f8373c5a0d04",
   "metadata": {
    "tags": []
   },
   "source": [
    "# Generic imports and helper functions"
   ]
  },
  {
   "cell_type": "code",
   "execution_count": 1,
   "id": "601be631-6d92-4871-abc5-7cb608b33981",
   "metadata": {},
   "outputs": [],
   "source": [
    "%reset -f\n",
    "import gym\n",
    "import numpy as np\n",
    "from IPython import display\n",
    "from matplotlib import pyplot as plt\n",
    "%matplotlib inline\n",
    "import torch\n",
    "\n",
    "import torch.nn as nn\n",
    "import torch.nn.functional as F\n",
    "import copy\n",
    "import random\n",
    "\n",
    "from collections import deque\n",
    "import sys"
   ]
  },
  {
   "cell_type": "code",
   "execution_count": 3,
   "id": "a6c909d2-ce44-47ba-9e9b-90c95491da3c",
   "metadata": {},
   "outputs": [
    {
     "data": {
      "image/png": "[encoded data removed]",
      "text/plain": [
       "<Figure size 432x288 with 1 Axes>"
      ]
     },
     "metadata": {
      "needs_background": "light"
     },
     "output_type": "display_data"
    }
   ],
   "source": [
    "def test_env(env: gym.Env) -> None:\n",
    "    env.reset()\n",
    "    done = False\n",
    "    img = plt.imshow(env.render(mode='rgb_array')) \n",
    "    i = 0\n",
    "    while not done:\n",
    "        _, _, done, _ = env.step(env.action_space.sample())\n",
    "        img.set_data(env.render(mode='rgb_array')) \n",
    "        plt.axis('off')\n",
    "        display.display(plt.gcf())\n",
    "        display.clear_output(wait=True)\n",
    "\n",
    "env = gym.make('MountainCar-v0')\n",
    "test_env(env)"
   ]
  },
  {
   "cell_type": "code",
   "execution_count": 4,
   "id": "20d99524-aa97-4eb9-883c-97b2cd101a16",
   "metadata": {},
   "outputs": [],
   "source": [
    "class PreprocessEnv(gym.Wrapper):\n",
    "    \n",
    "    def __init__(self, env):\n",
    "        gym.Wrapper.__init__(self, env)\n",
    "    \n",
    "    def reset(self):\n",
    "        obs = self.env.reset()\n",
    "        return torch.from_numpy(obs).unsqueeze(dim=0).float()\n",
    "    \n",
    "    def step(self, action):\n",
    "        action = action.item()\n",
    "        next_state, reward, done, info = self.env.step(action)\n",
    "        next_state = torch.from_numpy(next_state).unsqueeze(dim=0).float()\n",
    "        reward = torch.tensor(reward).view(1, -1).float()\n",
    "        done = torch.tensor(done).view(1, -1)\n",
    "        return next_state, reward, done, info"
   ]
  },
  {
   "cell_type": "markdown",
   "id": "8144e2a7-020f-4616-9046-42ff266b6234",
   "metadata": {},
   "source": [
    "# Mountain Car"
   ]
  },
  {
   "cell_type": "code",
   "execution_count": 5,
   "id": "21566cb0-ba53-404c-8026-6dc82ca2bd2b",
   "metadata": {},
   "outputs": [],
   "source": [
    "# env = gym.make('MountainCar-v0')\n",
    "# test_env(env)\n",
    "# env.close()"
   ]
  },
  {
   "cell_type": "code",
   "execution_count": 6,
   "id": "59548311-8a49-432e-adcf-183d5e96f50d",
   "metadata": {},
   "outputs": [],
   "source": [
    "env = gym.make('MountainCar-v0')\n",
    "env = PreprocessEnv(env)\n",
    "\n",
    "state_dims = env.observation_space.shape[0]\n",
    "num_actions = env.action_space.n"
   ]
  },
  {
   "cell_type": "code",
   "execution_count": 7,
   "id": "d4f341de-44e1-4663-a058-8cf86773e194",
   "metadata": {},
   "outputs": [
    {
     "name": "stdout",
     "output_type": "stream",
     "text": [
      "torch.Size([1, 2])\n"
     ]
    },
    {
     "data": {
      "text/plain": [
       "torch.Size([1, 3])"
      ]
     },
     "execution_count": 7,
     "metadata": {},
     "output_type": "execute_result"
    }
   ],
   "source": [
    "class  MyModel(nn.Module):\n",
    "    def __init__(self):\n",
    "        super(MyModel, self).__init__()\n",
    "        self.mainLayer = nn.Sequential(\n",
    "            nn.Linear(state_dims, 64),\n",
    "            nn.ReLU(),\n",
    "            nn.Linear(64, 32),\n",
    "            nn.ReLU(),\n",
    "            nn.Linear(32, num_actions)\n",
    "        )\n",
    "    def forward(self, x):\n",
    "        x = self.mainLayer(x)\n",
    "        return x\n",
    "\n",
    "# test model\n",
    "model = MyModel()\n",
    "state = env.reset()\n",
    "print(state.shape)\n",
    "model(state).shape"
   ]
  },
  {
   "cell_type": "code",
   "execution_count": 8,
   "id": "df98786f-dd6f-42ac-ad7a-18633d2e496a",
   "metadata": {},
   "outputs": [],
   "source": [
    "model2 = copy.deepcopy(model)\n",
    "model2.load_state_dict(model.state_dict())\n",
    "\n",
    "loss_fn = torch.nn.MSELoss()\n",
    "learning_rate = 1e-3\n",
    "optimizer = torch.optim.Adam(model.parameters(), lr=learning_rate)\n",
    "\n",
    "gamma = 0.99\n",
    "epsilon = 0.3"
   ]
  },
  {
   "cell_type": "code",
   "execution_count": 10,
   "id": "6e58686c-815d-4d88-98d4-b211759cdddd",
   "metadata": {},
   "outputs": [
    {
     "ename": "KeyboardInterrupt",
     "evalue": "",
     "output_type": "error",
     "traceback": [
      "\u001b[0;31m---------------------------------------------------------------------------\u001b[0m",
      "\u001b[0;31mKeyboardInterrupt\u001b[0m                         Traceback (most recent call last)",
      "Input \u001b[0;32mIn [10]\u001b[0m, in \u001b[0;36m<cell line: 8>\u001b[0;34m()\u001b[0m\n\u001b[1;32m     23\u001b[0m j \u001b[38;5;241m+\u001b[39m\u001b[38;5;241m=\u001b[39m \u001b[38;5;241m1\u001b[39m\n\u001b[1;32m     24\u001b[0m minibatch \u001b[38;5;241m=\u001b[39m random\u001b[38;5;241m.\u001b[39msample(replay, batch_size)\n\u001b[0;32m---> 25\u001b[0m state1_batch \u001b[38;5;241m=\u001b[39m torch\u001b[38;5;241m.\u001b[39mstack([s1 \u001b[38;5;28;01mfor\u001b[39;00m (s1,a,r,s2,d) \u001b[38;5;129;01min\u001b[39;00m minibatch])\n\u001b[1;32m     26\u001b[0m action_batch \u001b[38;5;241m=\u001b[39m torch\u001b[38;5;241m.\u001b[39mTensor([a \u001b[38;5;28;01mfor\u001b[39;00m (s1,a,r,s2,d) \u001b[38;5;129;01min\u001b[39;00m minibatch])\n\u001b[1;32m     27\u001b[0m reward_batch \u001b[38;5;241m=\u001b[39m torch\u001b[38;5;241m.\u001b[39mTensor([r \u001b[38;5;28;01mfor\u001b[39;00m (s1,a,r,s2,d) \u001b[38;5;129;01min\u001b[39;00m minibatch])\n",
      "Input \u001b[0;32mIn [10]\u001b[0m, in \u001b[0;36m<listcomp>\u001b[0;34m(.0)\u001b[0m\n\u001b[1;32m     23\u001b[0m j \u001b[38;5;241m+\u001b[39m\u001b[38;5;241m=\u001b[39m \u001b[38;5;241m1\u001b[39m\n\u001b[1;32m     24\u001b[0m minibatch \u001b[38;5;241m=\u001b[39m random\u001b[38;5;241m.\u001b[39msample(replay, batch_size)\n\u001b[0;32m---> 25\u001b[0m state1_batch \u001b[38;5;241m=\u001b[39m torch\u001b[38;5;241m.\u001b[39mstack([s1 \u001b[38;5;28;01mfor\u001b[39;00m (s1,a,r,s2,d) \u001b[38;5;129;01min\u001b[39;00m minibatch])\n\u001b[1;32m     26\u001b[0m action_batch \u001b[38;5;241m=\u001b[39m torch\u001b[38;5;241m.\u001b[39mTensor([a \u001b[38;5;28;01mfor\u001b[39;00m (s1,a,r,s2,d) \u001b[38;5;129;01min\u001b[39;00m minibatch])\n\u001b[1;32m     27\u001b[0m reward_batch \u001b[38;5;241m=\u001b[39m torch\u001b[38;5;241m.\u001b[39mTensor([r \u001b[38;5;28;01mfor\u001b[39;00m (s1,a,r,s2,d) \u001b[38;5;129;01min\u001b[39;00m minibatch])\n",
      "\u001b[0;31mKeyboardInterrupt\u001b[0m: "
     ]
    }
   ],
   "source": [
    "epochs = 1001\n",
    "losses = []\n",
    "mem_size = 20000\n",
    "batch_size = 5000\n",
    "replay = deque(maxlen=mem_size)\n",
    "sync_freq = 5000\n",
    "j = 0\n",
    "for i in range(epochs):\n",
    "    state1 = env.reset()\n",
    "    done = False\n",
    "\n",
    "    while not done:\n",
    "        qval = model(state1)\n",
    "        qval_ = qval.data.numpy()\n",
    "        action = np.argmax(qval_) if random.random() < epsilon else np.random.randint(0,2)\n",
    "        print\n",
    "        state2, reward, done, _ = env.step(torch.tensor(action))\n",
    "        exp = (state1, action, reward, state2, done)\n",
    "        replay.append(exp)\n",
    "        state1 = state2\n",
    "        \n",
    "        if len(replay) > batch_size:\n",
    "            j += 1\n",
    "            minibatch = random.sample(replay, batch_size)\n",
    "            state1_batch = torch.stack([s1 for (s1,a,r,s2,d) in minibatch])\n",
    "            action_batch = torch.Tensor([a for (s1,a,r,s2,d) in minibatch])\n",
    "            reward_batch = torch.Tensor([r for (s1,a,r,s2,d) in minibatch])\n",
    "            state2_batch = torch.stack([s2 for (s1,a,r,s2,d) in minibatch])\n",
    "            done_batch = torch.Tensor([d for (s1,a,r,s2,d) in minibatch])  \n",
    "            Q1 = model(state1_batch)\n",
    "            with torch.no_grad():\n",
    "                Q2 = model2(state2_batch)\n",
    "            Y = reward_batch + gamma*((1-done_batch)*torch.max(Q2,dim=2)[0][0])\n",
    "            #X = Q1.gather(dim=2, index=action_batch.long().unsqueeze(dim=0)).squeeze()\n",
    "            X = Q1.gather(dim=2, index=action_batch.long().unsqueeze(dim=-1).unsqueeze(dim=-1)).squeeze()\n",
    "            loss = loss_fn(X,Y.detach())\n",
    "            # print(i,loss.item())\n",
    "            # clear_output(wait=True)\n",
    "            optimizer.zero_grad()\n",
    "            loss.backward()\n",
    "            losses.append(loss.item())\n",
    "            optimizer.step()      \n",
    "        \n",
    "        \n",
    "            if j % sync_freq == 0:\n",
    "                model2.load_state_dict(model.state_dict())\n",
    "    if i %100 == 0:\n",
    "        torch.save(model, \"savedModels/mountainCar/mc_\"+str(i) +\".pth\")\n",
    "#losses = np.array(losses)\n",
    "print(\"done\")"
   ]
  },
  {
   "cell_type": "code",
   "execution_count": 11,
   "id": "317d8d6f-41c4-47b2-87dd-4b804a274283",
   "metadata": {},
   "outputs": [
    {
     "data": {
      "text/plain": [
       "Text(0, 0.5, 'Loss')"
      ]
     },
     "execution_count": 11,
     "metadata": {},
     "output_type": "execute_result"
    },
    {
     "data": {
      "image/png": "[encoded data removed]",
      "text/plain": [
       "<Figure size 720x504 with 1 Axes>"
      ]
     },
     "metadata": {
      "needs_background": "light"
     },
     "output_type": "display_data"
    }
   ],
   "source": [
    "plt.figure(figsize=(10,7))\n",
    "plt.plot(losses)\n",
    "plt.plot([np.mean(losses[i:i+500]) for i in range(len(losses))])\n",
    "plt.xlabel(\"Epochs\",fontsize=22)\n",
    "plt.ylabel(\"Loss\",fontsize=22)"
   ]
  },
  {
   "cell_type": "code",
   "execution_count": 128,
   "id": "8a69c091-2dc9-4806-9c85-5243fc46588d",
   "metadata": {},
   "outputs": [
    {
     "data": {
      "image/png": "[encoded data removed]",
      "text/plain": [
       "<Figure size 432x288 with 1 Axes>"
      ]
     },
     "metadata": {
      "needs_background": "light"
     },
     "output_type": "display_data"
    }
   ],
   "source": [
    "# Test the agent\n",
    "\n",
    "def test_model() -> None:\n",
    "    state = env.reset()\n",
    "    done = False\n",
    "    img = plt.imshow(env.render(mode='rgb_array')) \n",
    "    while not done:\n",
    "        qval = model2(state)\n",
    "        qval_ = qval.data.numpy()\n",
    "        action = np.argmax(qval_)\n",
    "        state, reward, done, _ = env.step(torch.tensor(action))\n",
    "        img.set_data(env.render(mode='rgb_array')) \n",
    "        plt.axis('off')\n",
    "        display.display(plt.gcf())\n",
    "        display.clear_output(wait=True)\n",
    "\n",
    "test_model()"
   ]
  },
  {
   "cell_type": "code",
   "execution_count": 137,
   "id": "1d335308-a1c0-4718-ae84-4bbeb4e62409",
   "metadata": {},
   "outputs": [
    {
     "data": {
      "text/plain": [
       "3"
      ]
     },
     "execution_count": 137,
     "metadata": {},
     "output_type": "execute_result"
    }
   ],
   "source": []
  },
  {
   "cell_type": "markdown",
   "id": "c88bb910-2b95-4089-96a3-390279c2dd52",
   "metadata": {},
   "source": [
    "# TODO: Deep SARSA Cartpole"
   ]
  },
  {
   "cell_type": "code",
   "execution_count": null,
   "id": "3f603725-1749-4c7c-8f7b-ac986371aabc",
   "metadata": {},
   "outputs": [],
   "source": []
  },
  {
   "cell_type": "markdown",
   "id": "ababc192-1fe2-43cf-b17b-44728c09595f",
   "metadata": {},
   "source": [
    "# TODO: Deep SARSA double pendulum"
   ]
  },
  {
   "cell_type": "code",
   "execution_count": null,
   "id": "dd6aab2b-d609-4fe2-9c1e-40fb4406744c",
   "metadata": {},
   "outputs": [],
   "source": []
  }
 ],
 "metadata": {
  "kernelspec": {
   "display_name": "Python 3 (ipykernel)",
   "language": "python",
   "name": "python3"
  },
  "language_info": {
   "codemirror_mode": {
    "name": "ipython",
    "version": 3
   },
   "file_extension": ".py",
   "mimetype": "text/x-python",
   "name": "python",
   "nbconvert_exporter": "python",
   "pygments_lexer": "ipython3",
   "version": "3.10.4"
  }
 },
 "nbformat": 4,
 "nbformat_minor": 5
}
